{
  "nbformat": 4,
  "nbformat_minor": 0,
  "metadata": {
    "colab": {
      "provenance": [],
      "authorship_tag": "ABX9TyMcg1mpYENTur+oID0ZUXu/",
      "include_colab_link": true
    },
    "kernelspec": {
      "name": "python3",
      "display_name": "Python 3"
    },
    "language_info": {
      "name": "python"
    }
  },
  "cells": [
    {
      "cell_type": "markdown",
      "metadata": {
        "id": "view-in-github",
        "colab_type": "text"
      },
      "source": [
        "<a href=\"https://colab.research.google.com/github/isa-ulisboa/greends-pml/blob/main/iris_LM_inference.ipynb\" target=\"_parent\"><img src=\"https://colab.research.google.com/assets/colab-badge.svg\" alt=\"Open In Colab\"/></a>"
      ]
    },
    {
      "cell_type": "code",
      "execution_count": 4,
      "metadata": {
        "colab": {
          "base_uri": "https://localhost:8080/"
        },
        "id": "CswUG2SCQOfV",
        "outputId": "fb84ee7c-9890-4ea2-c3ee-df8daaf75ea3"
      },
      "outputs": [
        {
          "output_type": "stream",
          "name": "stdout",
          "text": [
            "                            OLS Regression Results                            \n",
            "==============================================================================\n",
            "Dep. Variable:      sepal length (cm)   R-squared:                       0.859\n",
            "Model:                            OLS   Adj. R-squared:                  0.856\n",
            "Method:                 Least Squares   F-statistic:                     295.5\n",
            "Date:                Tue, 18 Feb 2025   Prob (F-statistic):           8.59e-62\n",
            "Time:                        18:18:12   Log-Likelihood:                -37.321\n",
            "No. Observations:                 150   AIC:                             82.64\n",
            "Df Residuals:                     146   BIC:                             94.69\n",
            "Df Model:                           3                                         \n",
            "Covariance Type:            nonrobust                                         \n",
            "=====================================================================================\n",
            "                        coef    std err          t      P>|t|      [0.025      0.975]\n",
            "-------------------------------------------------------------------------------------\n",
            "const                 1.8560      0.251      7.401      0.000       1.360       2.352\n",
            "sepal width (cm)      0.6508      0.067      9.765      0.000       0.519       0.783\n",
            "petal length (cm)     0.7091      0.057     12.502      0.000       0.597       0.821\n",
            "petal width (cm)     -0.5565      0.128     -4.363      0.000      -0.809      -0.304\n",
            "==============================================================================\n",
            "Omnibus:                        0.345   Durbin-Watson:                   2.060\n",
            "Prob(Omnibus):                  0.842   Jarque-Bera (JB):                0.504\n",
            "Skew:                           0.007   Prob(JB):                        0.777\n",
            "Kurtosis:                       2.716   Cond. No.                         54.7\n",
            "==============================================================================\n",
            "\n",
            "Notes:\n",
            "[1] Standard Errors assume that the covariance matrix of the errors is correctly specified.\n"
          ]
        }
      ],
      "source": [
        "import numpy as np\n",
        "import pandas as pd\n",
        "from sklearn.datasets import load_iris\n",
        "import statsmodels.api as sm\n",
        "\n",
        "# Load the Iris dataset\n",
        "iris = load_iris()\n",
        "df = pd.DataFrame(iris.data, columns=iris.feature_names)\n",
        "\n",
        "# Define the response variable\n",
        "response_var = 'sepal length (cm)'\n",
        "\n",
        "# Separate predictors and response\n",
        "X = df.drop(response_var, axis=1)\n",
        "y = df[response_var]\n",
        "\n",
        "# Add a constant term to the predictors (required for statsmodels OLS)\n",
        "X = sm.add_constant(X)\n",
        "\n",
        "# Fit the model\n",
        "model = sm.OLS(y, X).fit()\n",
        "\n",
        "# Print the summary of the model\n",
        "print(model.summary())"
      ]
    }
  ]
}